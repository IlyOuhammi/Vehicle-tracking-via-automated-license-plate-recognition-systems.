{
  "nbformat": 4,
  "nbformat_minor": 0,
  "metadata": {
    "colab": {
      "provenance": []
    },
    "kernelspec": {
      "name": "python3",
      "display_name": "Python 3"
    },
    "language_info": {
      "name": "python"
    }
  },
  "cells": [
    {
      "cell_type": "code",
      "source": [
        "import pandas as pd\n",
        "\n",
        "# Dictionnaire de correspondance des lettres\n",
        "rep = {\"أ\": \"A\", \"ب\": \"B\", \"ه\": \"H\", \"و\": \"W\", \"د\": \"D\"}\n",
        "\n",
        "# Fonction pour remplacer les lettres arabes\n",
        "def replace_arabic_letters(annotation):\n",
        "    if not isinstance(annotation, str):\n",
        "        return annotation  # Retourner tel quel si ce n'est pas une chaîne\n",
        "    parts = annotation.split('|')\n",
        "    if len(parts) > 1 and parts[-2] in rep:\n",
        "        parts[-2] = rep[parts[-2]]\n",
        "    return '|'.join(parts)\n",
        "\n",
        "# Lecture du fichier\n",
        "try:\n",
        "    df = pd.read_excel(\"/content/sample_data/Train_ocr.xlsx\")  # Remplacez par le chemin réel du fichier\n",
        "except FileNotFoundError:\n",
        "    print(\"Le fichier spécifié est introuvable. Vérifiez le chemin d'accès.\")\n",
        "    exit()\n",
        "\n",
        "# Vérification de la colonne contenant les annotations\n",
        "if df.shape[1] < 2:\n",
        "    print(\"Le fichier ne contient pas suffisamment de colonnes pour effectuer les modifications.\")\n",
        "    exit()\n",
        "\n",
        "# Appliquer la fonction à la colonne contenant les annotations\n",
        "col_name = df.columns[1]  # Supposons que la deuxième colonne contient les annotations\n",
        "try:\n",
        "    df[col_name] = df[col_name].apply(replace_arabic_letters)\n",
        "except Exception as e:\n",
        "    print(f\"Une erreur s'est produite lors de la modification des annotations : {e}\")\n",
        "    exit()\n",
        "\n",
        "# Sauvegarde du nouveau fichier\n",
        "output_file = 'ocr_train_modifie.csv'\n",
        "df.to_csv(output_file, index=False)\n",
        "print(f\"Fichier modifié sauvegardé sous : {output_file}\")"
      ],
      "metadata": {
        "colab": {
          "base_uri": "https://localhost:8080/"
        },
        "id": "r96TwHerQNLw",
        "outputId": "7e49669a-5857-47d8-d154-367b5ea0d86c"
      },
      "execution_count": 13,
      "outputs": [
        {
          "output_type": "stream",
          "name": "stdout",
          "text": [
            "Fichier modifié sauvegardé sous : ocr_train_modifie.csv\n"
          ]
        }
      ]
    },
    {
      "cell_type": "code",
      "source": [
        "df.to_excel('fichier_modifie.xlsx', index=False)\n",
        "print(f\"Fichier modifié sauvegardé sous : ocr_train_modifie.xlsx\")\n",
        "print(df)"
      ],
      "metadata": {
        "colab": {
          "base_uri": "https://localhost:8080/"
        },
        "id": "phBTLNm_QfsP",
        "outputId": "dd7fd4f9-da33-4ce1-a7dd-eeb792a40fb3"
      },
      "execution_count": 10,
      "outputs": [
        {
          "output_type": "stream",
          "name": "stdout",
          "text": [
            "Fichier modifié sauvegardé sous : ocr_train_modifie.xlsx\n",
            "      Unnamed: 0 annotation                  name\n",
            "0              0  40|A|75876  IMG-20200725-WA0000\n",
            "1              1  40|A|94687  IMG-20200725-WA0001\n",
            "2              2  40|A|78338  IMG-20200725-WA0002\n",
            "3              3  40|B|40781  IMG-20200725-WA0004\n",
            "4              4  40|A|94687  IMG-20200725-WA0037\n",
            "...          ...         ...                  ...\n",
            "1111        1112   41873|D|1                y (6)\n",
            "1112        1113    5483|W|1                y (7)\n",
            "1113        1114   97471|B|1                y (8)\n",
            "1114        1115    7805|D|1                   ya\n",
            "1115        1116    6444|D|6                  yaa\n",
            "\n",
            "[1116 rows x 3 columns]\n"
          ]
        }
      ]
    }
  ]
}