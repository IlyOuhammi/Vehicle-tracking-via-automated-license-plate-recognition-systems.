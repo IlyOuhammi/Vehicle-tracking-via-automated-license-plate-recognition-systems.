{
  "nbformat": 4,
  "nbformat_minor": 0,
  "metadata": {
    "colab": {
      "provenance": [],
      "gpuType": "T4"
    },
    "kernelspec": {
      "name": "python3",
      "display_name": "Python 3"
    },
    "language_info": {
      "name": "python"
    },
    "accelerator": "GPU"
  },
  "cells": [
    {
      "cell_type": "code",
      "execution_count": null,
      "metadata": {
        "colab": {
          "base_uri": "https://localhost:8080/"
        },
        "id": "mBDGKKN-lBbE",
        "outputId": "b9996493-1c1c-4751-a95d-cbd63dabb530"
      },
      "outputs": [
        {
          "output_type": "stream",
          "name": "stdout",
          "text": [
            "Cloning into 'yolov10'...\n",
            "remote: Enumerating objects: 20332, done.\u001b[K\n",
            "remote: Total 20332 (delta 0), reused 0 (delta 0), pack-reused 20332 (from 1)\u001b[K\n",
            "Receiving objects: 100% (20332/20332), 11.09 MiB | 11.88 MiB/s, done.\n",
            "Resolving deltas: 100% (14352/14352), done.\n",
            "/content/yolov10\n"
          ]
        }
      ],
      "source": [
        "!git clone https://github.com/THU-MIG/yolov10.git\n",
        "%cd yolov10"
      ]
    },
    {
      "cell_type": "code",
      "source": [
        "!pip install -q ."
      ],
      "metadata": {
        "colab": {
          "base_uri": "https://localhost:8080/"
        },
        "id": "RelwqC-OlLUv",
        "outputId": "f9533903-392e-4606-fab8-be4e52521202"
      },
      "execution_count": null,
      "outputs": [
        {
          "output_type": "stream",
          "name": "stdout",
          "text": [
            "  Installing build dependencies ... \u001b[?25l\u001b[?25hdone\n",
            "  Getting requirements to build wheel ... \u001b[?25l\u001b[?25hdone\n",
            "  Preparing metadata (pyproject.toml) ... \u001b[?25l\u001b[?25hdone\n",
            "  Building wheel for ultralytics (pyproject.toml) ... \u001b[?25l\u001b[?25hdone\n"
          ]
        }
      ]
    },
    {
      "cell_type": "code",
      "source": [
        "import os\n",
        "import urllib.request\n",
        "#Create a directory for the weights in the current working directory\n",
        "weights_dir = os.path.join(os.getcwd(), 'weights')\n",
        "os.makedirs(weights_dir, exist_ok = True)\n",
        "#urls of the weights file\n",
        "urls = [\"https://github.com/THU-MIG/yolov10/releases/download/v1.1/yolov10n.pt\",\n",
        "        \"https://github.com/THU-MIG/yolov10/releases/download/v1.1/yolov10s.pt\",\n",
        "        \"https://github.com/THU-MIG/yolov10/releases/download/v1.1/yolov10m.pt\",\n",
        "        \"https://github.com/THU-MIG/yolov10/releases/download/v1.1/yolov10b.pt\",\n",
        "        \"https://github.com/THU-MIG/yolov10/releases/download/v1.1/yolov10l.pt\",\n",
        "        \"https://github.com/THU-MIG/yolov10/releases/download/v1.1/yolov10x.pt\"]\n",
        "\n",
        "#Download each file\n",
        "for url in urls:\n",
        "  filename = os.path.basename(url)\n",
        "  filepath = os.path.join(weights_dir, filename)\n",
        "  urllib.request.urlretrieve(url, filepath)\n",
        "  print(f\"Downloaded: {filepath}\")"
      ],
      "metadata": {
        "colab": {
          "base_uri": "https://localhost:8080/"
        },
        "id": "-QgXIT6Vn65v",
        "outputId": "2a21f491-420b-48fd-a822-41739730f2ae"
      },
      "execution_count": null,
      "outputs": [
        {
          "output_type": "stream",
          "name": "stdout",
          "text": [
            "Downloaded: /content/yolov10/weights/yolov10n.pt\n",
            "Downloaded: /content/yolov10/weights/yolov10s.pt\n",
            "Downloaded: /content/yolov10/weights/yolov10m.pt\n",
            "Downloaded: /content/yolov10/weights/yolov10b.pt\n",
            "Downloaded: /content/yolov10/weights/yolov10l.pt\n",
            "Downloaded: /content/yolov10/weights/yolov10x.pt\n"
          ]
        }
      ]
    },
    {
      "cell_type": "code",
      "source": [
        "import os\n",
        "import shutil\n",
        "import random\n",
        "\n",
        "# Chemin vers le dossier contenant les images et annotations\n",
        "input_folder = \"/content/drive/MyDrive/DL/dataset/dataset/dataset\"  # Remplacez avec le chemin actuel\n",
        "output_folder = \"/content/drive/MyDrive/DL/dataset/dataset2\"  # Chemin où organiser le dataset\n",
        "\n",
        "# Créez les dossiers nécessaires pour YOLOv8\n",
        "folders = [\n",
        "    \"images/train\", \"images/val\", \"images/test\",\n",
        "    \"labels/train\", \"labels/val\", \"labels/test\"\n",
        "]\n",
        "for folder in folders:\n",
        "    os.makedirs(os.path.join(output_folder, folder), exist_ok=True)\n",
        "\n",
        "# Récupérer toutes les images et leurs annotations correspondantes\n",
        "images = [f for f in os.listdir(input_folder) if f.endswith(('.jpg', '.png', '.jpeg'))]\n",
        "annotations = [f for f in os.listdir(input_folder) if f.endswith('.txt')]\n",
        "\n",
        "# Vérifier que chaque image a une annotation correspondante\n",
        "paired_data = []\n",
        "for image in images:\n",
        "    base_name = os.path.splitext(image)[0]\n",
        "    annotation = base_name + \".txt\"\n",
        "    if annotation in annotations:\n",
        "        paired_data.append((image, annotation))\n",
        "\n",
        "# Diviser les données en train (70%), val (20%) et test (10%)\n",
        "random.shuffle(paired_data)\n",
        "train_size = int(0.7 * len(paired_data))\n",
        "val_size = int(0.2 * len(paired_data))\n",
        "\n",
        "train_data = paired_data[:train_size]\n",
        "val_data = paired_data[train_size:train_size + val_size]\n",
        "test_data = paired_data[train_size + val_size:]\n",
        "\n",
        "# Fonction pour copier les fichiers dans les dossiers correspondants\n",
        "def copy_files(data, image_dest, label_dest):\n",
        "    for image, annotation in data:\n",
        "        # Copier l'image\n",
        "        shutil.copy(\n",
        "            os.path.join(input_folder, image),\n",
        "            os.path.join(output_folder, image_dest, image)\n",
        "        )\n",
        "        # Copier l'annotation\n",
        "        shutil.copy(\n",
        "            os.path.join(input_folder, annotation),\n",
        "            os.path.join(output_folder, label_dest, annotation)\n",
        "        )\n",
        "\n",
        "# Organiser les fichiers\n",
        "copy_files(train_data, \"images/train\", \"labels/train\")\n",
        "copy_files(val_data, \"images/val\", \"labels/val\")\n",
        "copy_files(test_data, \"images/test\", \"labels/test\")\n",
        "\n",
        "print(\"Dataset organisé avec succès en train, validation et test !\")\n"
      ],
      "metadata": {
        "colab": {
          "base_uri": "https://localhost:8080/"
        },
        "id": "lkYhcwfg5Ipo",
        "outputId": "d974493e-053b-4de5-a65c-90004fa2d70c"
      },
      "execution_count": null,
      "outputs": [
        {
          "output_type": "stream",
          "name": "stdout",
          "text": [
            "Dataset organisé avec succès en train, validation et test !\n"
          ]
        }
      ]
    },
    {
      "cell_type": "code",
      "source": [
        "data_yaml = \"\"\"\n",
        "test: /content/drive/MyDrive/DL/dataset/test/images\n",
        "train: /content/drive/MyDrive/DL/dataset/train/images\n",
        "val: /content/drive/MyDrive/DL/dataset/valid/images\n",
        "nc: 1\n",
        "names: - licence\n",
        "\n",
        "\"\"\"\n",
        "\n",
        "# Écrire dans un fichier\n",
        "with open('/content/drive/MyDrive/DL/dataset/data.yaml', 'w') as f:\n",
        "    f.write(data_yaml)"
      ],
      "metadata": {
        "id": "yvUn8cmE9SXl"
      },
      "execution_count": null,
      "outputs": []
    },
    {
      "cell_type": "code",
      "source": [
        "%cd '/content/yolov10'"
      ],
      "metadata": {
        "colab": {
          "base_uri": "https://localhost:8080/"
        },
        "id": "eqygUiQnoMrt",
        "outputId": "5a34f8a6-cae4-41c1-800c-614142211184"
      },
      "execution_count": null,
      "outputs": [
        {
          "output_type": "stream",
          "name": "stdout",
          "text": [
            "/content/yolov10\n"
          ]
        }
      ]
    },
    {
      "cell_type": "code",
      "source": [
        "!yolo task=detect mode=train epochs=50 batch=16 plots=True model='weights/yolov10n.pt' data='/content/drive/MyDrive/DL/dataset/data.yaml'"
      ],
      "metadata": {
        "colab": {
          "base_uri": "https://localhost:8080/"
        },
        "id": "kQufOgt7oU2p",
        "outputId": "9862b1e5-7624-4bd2-dc51-25bae089b46e"
      },
      "execution_count": null,
      "outputs": [
        {
          "output_type": "stream",
          "name": "stdout",
          "text": [
            "/usr/local/lib/python3.10/dist-packages/ultralytics/nn/tasks.py:733: FutureWarning: You are using `torch.load` with `weights_only=False` (the current default value), which uses the default pickle module implicitly. It is possible to construct malicious pickle data which will execute arbitrary code during unpickling (See https://github.com/pytorch/pytorch/blob/main/SECURITY.md#untrusted-models for more details). In a future release, the default value for `weights_only` will be flipped to `True`. This limits the functions that could be executed during unpickling. Arbitrary objects will no longer be allowed to be loaded via this mode unless they are explicitly allowlisted by the user via `torch.serialization.add_safe_globals`. We recommend you start setting `weights_only=True` for any use case where you don't have full control of the loaded file. Please open an issue on GitHub for any issues related to this experimental feature.\n",
            "  ckpt = torch.load(file, map_location=\"cpu\")\n",
            "New https://pypi.org/project/ultralytics/8.3.55 available 😃 Update with 'pip install -U ultralytics'\n",
            "Ultralytics YOLOv8.1.34 🚀 Python-3.10.12 torch-2.5.1+cu121 CUDA:0 (Tesla T4, 15102MiB)\n",
            "\u001b[34m\u001b[1mengine/trainer: \u001b[0mtask=detect, mode=train, model=weights/yolov10n.pt, data=/content/drive/MyDrive/DL/dataset/data.yaml, epochs=50, time=None, patience=100, batch=16, imgsz=640, save=True, save_period=-1, val_period=1, cache=False, device=None, workers=8, project=None, name=train2, exist_ok=False, pretrained=True, optimizer=auto, verbose=True, seed=0, deterministic=True, single_cls=False, rect=False, cos_lr=False, close_mosaic=10, resume=False, amp=True, fraction=1.0, profile=False, freeze=None, multi_scale=False, overlap_mask=True, mask_ratio=4, dropout=0.0, val=True, split=val, save_json=False, save_hybrid=False, conf=None, iou=0.7, max_det=300, half=False, dnn=False, plots=True, source=None, vid_stride=1, stream_buffer=False, visualize=False, augment=False, agnostic_nms=False, classes=None, retina_masks=False, embed=None, show=False, save_frames=False, save_txt=False, save_conf=False, save_crop=False, show_labels=True, show_conf=True, show_boxes=True, line_width=None, format=torchscript, keras=False, optimize=False, int8=False, dynamic=False, simplify=False, opset=None, workspace=4, nms=False, lr0=0.01, lrf=0.01, momentum=0.937, weight_decay=0.0005, warmup_epochs=3.0, warmup_momentum=0.8, warmup_bias_lr=0.1, box=7.5, cls=0.5, dfl=1.5, pose=12.0, kobj=1.0, label_smoothing=0.0, nbs=64, hsv_h=0.015, hsv_s=0.7, hsv_v=0.4, degrees=0.0, translate=0.1, scale=0.5, shear=0.0, perspective=0.0, flipud=0.0, fliplr=0.5, bgr=0.0, mosaic=1.0, mixup=0.0, copy_paste=0.0, auto_augment=randaugment, erasing=0.4, crop_fraction=1.0, cfg=None, tracker=botsort.yaml, save_dir=/content/yolov10/runs/detect/train2\n",
            "Downloading https://ultralytics.com/assets/Arial.ttf to '/root/.config/yolov10/Arial.ttf'...\n",
            "100% 755k/755k [00:00<00:00, 24.6MB/s]\n",
            "2024-12-28 11:23:49.078169: E external/local_xla/xla/stream_executor/cuda/cuda_fft.cc:485] Unable to register cuFFT factory: Attempting to register factory for plugin cuFFT when one has already been registered\n",
            "2024-12-28 11:23:49.097839: E external/local_xla/xla/stream_executor/cuda/cuda_dnn.cc:8454] Unable to register cuDNN factory: Attempting to register factory for plugin cuDNN when one has already been registered\n",
            "2024-12-28 11:23:49.104596: E external/local_xla/xla/stream_executor/cuda/cuda_blas.cc:1452] Unable to register cuBLAS factory: Attempting to register factory for plugin cuBLAS when one has already been registered\n",
            "Overriding model.yaml nc=80 with nc=1\n",
            "\n",
            "                   from  n    params  module                                       arguments                     \n",
            "  0                  -1  1       464  ultralytics.nn.modules.conv.Conv             [3, 16, 3, 2]                 \n",
            "  1                  -1  1      4672  ultralytics.nn.modules.conv.Conv             [16, 32, 3, 2]                \n",
            "  2                  -1  1      7360  ultralytics.nn.modules.block.C2f             [32, 32, 1, True]             \n",
            "  3                  -1  1     18560  ultralytics.nn.modules.conv.Conv             [32, 64, 3, 2]                \n",
            "  4                  -1  2     49664  ultralytics.nn.modules.block.C2f             [64, 64, 2, True]             \n",
            "  5                  -1  1      9856  ultralytics.nn.modules.block.SCDown          [64, 128, 3, 2]               \n",
            "  6                  -1  2    197632  ultralytics.nn.modules.block.C2f             [128, 128, 2, True]           \n",
            "  7                  -1  1     36096  ultralytics.nn.modules.block.SCDown          [128, 256, 3, 2]              \n",
            "  8                  -1  1    460288  ultralytics.nn.modules.block.C2f             [256, 256, 1, True]           \n",
            "  9                  -1  1    164608  ultralytics.nn.modules.block.SPPF            [256, 256, 5]                 \n",
            " 10                  -1  1    249728  ultralytics.nn.modules.block.PSA             [256, 256]                    \n",
            " 11                  -1  1         0  torch.nn.modules.upsampling.Upsample         [None, 2, 'nearest']          \n",
            " 12             [-1, 6]  1         0  ultralytics.nn.modules.conv.Concat           [1]                           \n",
            " 13                  -1  1    148224  ultralytics.nn.modules.block.C2f             [384, 128, 1]                 \n",
            " 14                  -1  1         0  torch.nn.modules.upsampling.Upsample         [None, 2, 'nearest']          \n",
            " 15             [-1, 4]  1         0  ultralytics.nn.modules.conv.Concat           [1]                           \n",
            " 16                  -1  1     37248  ultralytics.nn.modules.block.C2f             [192, 64, 1]                  \n",
            " 17                  -1  1     36992  ultralytics.nn.modules.conv.Conv             [64, 64, 3, 2]                \n",
            " 18            [-1, 13]  1         0  ultralytics.nn.modules.conv.Concat           [1]                           \n",
            " 19                  -1  1    123648  ultralytics.nn.modules.block.C2f             [192, 128, 1]                 \n",
            " 20                  -1  1     18048  ultralytics.nn.modules.block.SCDown          [128, 128, 3, 2]              \n",
            " 21            [-1, 10]  1         0  ultralytics.nn.modules.conv.Concat           [1]                           \n",
            " 22                  -1  1    282624  ultralytics.nn.modules.block.C2fCIB          [384, 256, 1, True, True]     \n",
            " 23        [16, 19, 22]  1    861718  ultralytics.nn.modules.head.v10Detect        [1, [64, 128, 256]]           \n",
            "YOLOv10n summary: 385 layers, 2707430 parameters, 2707414 gradients, 8.4 GFLOPs\n",
            "\n",
            "Transferred 493/595 items from pretrained weights\n",
            "\u001b[34m\u001b[1mTensorBoard: \u001b[0mStart with 'tensorboard --logdir /content/yolov10/runs/detect/train2', view at http://localhost:6006/\n",
            "\u001b[34m\u001b[1mwandb\u001b[0m: Using wandb-core as the SDK backend.  Please refer to https://wandb.me/wandb-core for more information.\n",
            "\u001b[34m\u001b[1mwandb\u001b[0m: (1) Create a W&B account\n",
            "\u001b[34m\u001b[1mwandb\u001b[0m: (2) Use an existing W&B account\n",
            "\u001b[34m\u001b[1mwandb\u001b[0m: (3) Don't visualize my results\n",
            "\u001b[34m\u001b[1mwandb\u001b[0m: Enter your choice: 2\n",
            "\u001b[34m\u001b[1mwandb\u001b[0m: You chose 'Use an existing W&B account'\n",
            "\u001b[34m\u001b[1mwandb\u001b[0m: Logging into wandb.ai. (Learn how to deploy a W&B server locally: https://wandb.me/wandb-server)\n",
            "\u001b[34m\u001b[1mwandb\u001b[0m: You can find your API key in your browser here: https://wandb.ai/authorize\n",
            "\u001b[34m\u001b[1mwandb\u001b[0m: Paste an API key from your profile and hit enter, or press ctrl+c to quit: \n",
            "\u001b[34m\u001b[1mwandb\u001b[0m: Appending key for api.wandb.ai to your netrc file: /root/.netrc\n",
            "\u001b[34m\u001b[1mwandb\u001b[0m: Tracking run with wandb version 0.19.1\n",
            "\u001b[34m\u001b[1mwandb\u001b[0m: Run data is saved locally in \u001b[35m\u001b[1m/content/yolov10/wandb/run-20241228_112458-wtnihko5\u001b[0m\n",
            "\u001b[34m\u001b[1mwandb\u001b[0m: Run \u001b[1m`wandb offline`\u001b[0m to turn off syncing.\n",
            "\u001b[34m\u001b[1mwandb\u001b[0m: Syncing run \u001b[33mtrain2\u001b[0m\n",
            "\u001b[34m\u001b[1mwandb\u001b[0m: ⭐️ View project at \u001b[34m\u001b[4mhttps://wandb.ai/imanebb692-school/YOLOv8\u001b[0m\n",
            "\u001b[34m\u001b[1mwandb\u001b[0m: 🚀 View run at \u001b[34m\u001b[4mhttps://wandb.ai/imanebb692-school/YOLOv8/runs/wtnihko5\u001b[0m\n",
            "Freezing layer 'model.23.dfl.conv.weight'\n",
            "\u001b[34m\u001b[1mAMP: \u001b[0mrunning Automatic Mixed Precision (AMP) checks with YOLOv8n...\n",
            "Downloading https://github.com/ultralytics/assets/releases/download/v8.1.0/yolov8n.pt to 'yolov8n.pt'...\n",
            "100% 6.23M/6.23M [00:00<00:00, 100MB/s]\n",
            "/usr/local/lib/python3.10/dist-packages/ultralytics/nn/tasks.py:733: FutureWarning: You are using `torch.load` with `weights_only=False` (the current default value), which uses the default pickle module implicitly. It is possible to construct malicious pickle data which will execute arbitrary code during unpickling (See https://github.com/pytorch/pytorch/blob/main/SECURITY.md#untrusted-models for more details). In a future release, the default value for `weights_only` will be flipped to `True`. This limits the functions that could be executed during unpickling. Arbitrary objects will no longer be allowed to be loaded via this mode unless they are explicitly allowlisted by the user via `torch.serialization.add_safe_globals`. We recommend you start setting `weights_only=True` for any use case where you don't have full control of the loaded file. Please open an issue on GitHub for any issues related to this experimental feature.\n",
            "  ckpt = torch.load(file, map_location=\"cpu\")\n",
            "/usr/local/lib/python3.10/dist-packages/ultralytics/utils/checks.py:641: FutureWarning: `torch.cuda.amp.autocast(args...)` is deprecated. Please use `torch.amp.autocast('cuda', args...)` instead.\n",
            "  with torch.cuda.amp.autocast(True):\n",
            "\u001b[34m\u001b[1mAMP: \u001b[0mchecks passed ✅\n",
            "/usr/local/lib/python3.10/dist-packages/ultralytics/engine/trainer.py:276: FutureWarning: `torch.cuda.amp.GradScaler(args...)` is deprecated. Please use `torch.amp.GradScaler('cuda', args...)` instead.\n",
            "  self.scaler = torch.cuda.amp.GradScaler(enabled=self.amp)\n",
            "\u001b[34m\u001b[1mtrain: \u001b[0mScanning /content/drive/MyDrive/DL/dataset/train/labels... 1117 images, 0 backgrounds, 0 corrupt: 100% 1117/1117 [00:15<00:00, 70.15it/s] \n",
            "\u001b[34m\u001b[1mtrain: \u001b[0mNew cache created: /content/drive/MyDrive/DL/dataset/train/labels.cache\n",
            "/usr/local/lib/python3.10/dist-packages/albumentations/__init__.py:24: UserWarning: A new version of Albumentations is available: 1.4.24 (you have 1.4.20). Upgrade using: pip install -U albumentations. To disable automatic update checks, set the environment variable NO_ALBUMENTATIONS_UPDATE to 1.\n",
            "  check_for_updates()\n",
            "/usr/local/lib/python3.10/dist-packages/albumentations/core/composition.py:205: UserWarning: Got processor for bboxes, but no transform to process it.\n",
            "  self._set_keys()\n",
            "\u001b[34m\u001b[1malbumentations: \u001b[0mBlur(p=0.01, blur_limit=(3, 7)), MedianBlur(p=0.01, blur_limit=(3, 7)), ToGray(p=0.01, num_output_channels=3, method='weighted_average'), CLAHE(p=0.01, clip_limit=(1.0, 4.0), tile_grid_size=(8, 8))\n",
            "\u001b[34m\u001b[1mval: \u001b[0mScanning /content/drive/MyDrive/DL/dataset/valid/labels... 319 images, 0 backgrounds, 0 corrupt: 100% 319/319 [00:04<00:00, 67.05it/s] \n",
            "\u001b[34m\u001b[1mval: \u001b[0mNew cache created: /content/drive/MyDrive/DL/dataset/valid/labels.cache\n",
            "Plotting labels to /content/yolov10/runs/detect/train2/labels.jpg... \n",
            "\u001b[34m\u001b[1moptimizer:\u001b[0m 'optimizer=auto' found, ignoring 'lr0=0.01' and 'momentum=0.937' and determining best 'optimizer', 'lr0' and 'momentum' automatically... \n",
            "\u001b[34m\u001b[1moptimizer:\u001b[0m AdamW(lr=0.002, momentum=0.9) with parameter groups 95 weight(decay=0.0), 108 weight(decay=0.0005), 107 bias(decay=0.0)\n",
            "\u001b[34m\u001b[1mTensorBoard: \u001b[0mmodel graph visualization added ✅\n",
            "Image sizes 640 train, 640 val\n",
            "Using 2 dataloader workers\n",
            "Logging results to \u001b[1m/content/yolov10/runs/detect/train2\u001b[0m\n",
            "Starting training for 50 epochs...\n",
            "\n",
            "      Epoch    GPU_mem     box_om     cls_om     dfl_om     box_oo     cls_oo     dfl_oo  Instances       Size\n",
            "       1/50      3.02G      1.169      2.135      1.154      1.076      6.195      1.094         20        640: 100% 70/70 [00:39<00:00,  1.79it/s]\n",
            "                 Class     Images  Instances      Box(P          R      mAP50  mAP50-95): 100% 10/10 [00:05<00:00,  1.97it/s]\n",
            "                   all        319        319        0.8     0.0877      0.368       0.28\n",
            "\n",
            "      Epoch    GPU_mem     box_om     cls_om     dfl_om     box_oo     cls_oo     dfl_oo  Instances       Size\n",
            "       2/50      3.04G      1.138      1.402      1.078       1.16      4.139      1.056         22        640: 100% 70/70 [00:36<00:00,  1.92it/s]\n",
            "                 Class     Images  Instances      Box(P          R      mAP50  mAP50-95): 100% 10/10 [00:04<00:00,  2.45it/s]\n",
            "                   all        319        319      0.735      0.654      0.746      0.501\n",
            "\n",
            "      Epoch    GPU_mem     box_om     cls_om     dfl_om     box_oo     cls_oo     dfl_oo  Instances       Size\n",
            "       3/50      3.04G       1.17      1.221      1.103      1.288       2.84      1.105         22        640: 100% 70/70 [00:34<00:00,  2.03it/s]\n",
            "                 Class     Images  Instances      Box(P          R      mAP50  mAP50-95): 100% 10/10 [00:06<00:00,  1.60it/s]\n",
            "                   all        319        319      0.509      0.204      0.231      0.127\n",
            "\n",
            "      Epoch    GPU_mem     box_om     cls_om     dfl_om     box_oo     cls_oo     dfl_oo  Instances       Size\n",
            "       4/50      3.04G       1.13     0.9888      1.078      1.274      1.868      1.094         24        640: 100% 70/70 [00:33<00:00,  2.07it/s]\n",
            "                 Class     Images  Instances      Box(P          R      mAP50  mAP50-95): 100% 10/10 [00:07<00:00,  1.41it/s]\n",
            "                   all        319        319      0.539      0.533      0.562       0.34\n",
            "\n",
            "      Epoch    GPU_mem     box_om     cls_om     dfl_om     box_oo     cls_oo     dfl_oo  Instances       Size\n",
            "       5/50      3.04G      1.109     0.9014      1.072      1.216      1.427      1.085         22        640: 100% 70/70 [00:35<00:00,  1.98it/s]\n",
            "                 Class     Images  Instances      Box(P          R      mAP50  mAP50-95): 100% 10/10 [00:04<00:00,  2.08it/s]\n",
            "                   all        319        319      0.783      0.745      0.859      0.561\n",
            "\n",
            "      Epoch    GPU_mem     box_om     cls_om     dfl_om     box_oo     cls_oo     dfl_oo  Instances       Size\n",
            "       6/50      3.04G      1.102      0.803      1.068      1.207      1.092      1.078         28        640: 100% 70/70 [00:36<00:00,  1.92it/s]\n",
            "                 Class     Images  Instances      Box(P          R      mAP50  mAP50-95): 100% 10/10 [00:03<00:00,  2.55it/s]\n",
            "                   all        319        319      0.845      0.754      0.857      0.555\n",
            "\n",
            "      Epoch    GPU_mem     box_om     cls_om     dfl_om     box_oo     cls_oo     dfl_oo  Instances       Size\n",
            "       7/50      3.04G      1.039       0.76      1.044      1.165     0.9738      1.071         24        640: 100% 70/70 [00:36<00:00,  1.93it/s]\n",
            "                 Class     Images  Instances      Box(P          R      mAP50  mAP50-95): 100% 10/10 [00:04<00:00,  2.27it/s]\n",
            "                   all        319        319      0.856       0.78      0.915      0.634\n",
            "\n",
            "      Epoch    GPU_mem     box_om     cls_om     dfl_om     box_oo     cls_oo     dfl_oo  Instances       Size\n",
            "       8/50      3.04G       1.02     0.7154      1.036      1.143     0.8749      1.054         32        640: 100% 70/70 [00:35<00:00,  1.98it/s]\n",
            "                 Class     Images  Instances      Box(P          R      mAP50  mAP50-95): 100% 10/10 [00:06<00:00,  1.61it/s]\n",
            "                   all        319        319      0.858       0.89      0.947      0.689\n",
            "\n",
            "      Epoch    GPU_mem     box_om     cls_om     dfl_om     box_oo     cls_oo     dfl_oo  Instances       Size\n",
            "       9/50      3.04G      1.013     0.7089      1.035      1.121     0.8252      1.046         28        640: 100% 70/70 [00:34<00:00,  2.01it/s]\n",
            "                 Class     Images  Instances      Box(P          R      mAP50  mAP50-95): 100% 10/10 [00:06<00:00,  1.54it/s]\n",
            "                   all        319        319      0.903      0.856      0.957      0.681\n",
            "\n",
            "      Epoch    GPU_mem     box_om     cls_om     dfl_om     box_oo     cls_oo     dfl_oo  Instances       Size\n",
            "      10/50      3.04G      0.954     0.6614      1.011      1.055     0.7453      1.026         28        640: 100% 70/70 [00:35<00:00,  1.96it/s]\n",
            "                 Class     Images  Instances      Box(P          R      mAP50  mAP50-95): 100% 10/10 [00:04<00:00,  2.46it/s]\n",
            "                   all        319        319      0.881      0.882      0.955      0.688\n",
            "\n",
            "      Epoch    GPU_mem     box_om     cls_om     dfl_om     box_oo     cls_oo     dfl_oo  Instances       Size\n",
            "      11/50      3.04G     0.9654     0.6504       1.03      1.075     0.7491      1.053         31        640: 100% 70/70 [00:35<00:00,  1.96it/s]\n",
            "                 Class     Images  Instances      Box(P          R      mAP50  mAP50-95): 100% 10/10 [00:04<00:00,  2.37it/s]\n",
            "                   all        319        319       0.93        0.9      0.972      0.693\n",
            "\n",
            "      Epoch    GPU_mem     box_om     cls_om     dfl_om     box_oo     cls_oo     dfl_oo  Instances       Size\n",
            "      12/50      3.04G      0.958     0.6398      1.013      1.071     0.6978      1.029         25        640: 100% 70/70 [00:35<00:00,  1.95it/s]\n",
            "                 Class     Images  Instances      Box(P          R      mAP50  mAP50-95): 100% 10/10 [00:05<00:00,  1.83it/s]\n",
            "                   all        319        319      0.924      0.883      0.966      0.714\n",
            "\n",
            "      Epoch    GPU_mem     box_om     cls_om     dfl_om     box_oo     cls_oo     dfl_oo  Instances       Size\n",
            "      13/50      3.04G     0.9484     0.6091      1.013      1.042     0.6286      1.038         26        640: 100% 70/70 [00:34<00:00,  2.02it/s]\n",
            "                 Class     Images  Instances      Box(P          R      mAP50  mAP50-95): 100% 10/10 [00:07<00:00,  1.36it/s]\n",
            "                   all        319        319      0.923      0.912      0.977      0.735\n",
            "\n",
            "      Epoch    GPU_mem     box_om     cls_om     dfl_om     box_oo     cls_oo     dfl_oo  Instances       Size\n",
            "      14/50      3.04G     0.9301     0.5821      1.003      1.028     0.6003      1.015         28        640: 100% 70/70 [00:36<00:00,  1.94it/s]\n",
            "                 Class     Images  Instances      Box(P          R      mAP50  mAP50-95): 100% 10/10 [00:04<00:00,  2.02it/s]\n",
            "                   all        319        319      0.932      0.918      0.979      0.724\n",
            "\n",
            "      Epoch    GPU_mem     box_om     cls_om     dfl_om     box_oo     cls_oo     dfl_oo  Instances       Size\n",
            "      15/50      3.04G     0.9227     0.5612     0.9829      1.007     0.5617     0.9949         32        640: 100% 70/70 [00:36<00:00,  1.94it/s]\n",
            "                 Class     Images  Instances      Box(P          R      mAP50  mAP50-95): 100% 10/10 [00:04<00:00,  2.36it/s]\n",
            "                   all        319        319      0.919      0.956      0.977      0.737\n",
            "\n",
            "      Epoch    GPU_mem     box_om     cls_om     dfl_om     box_oo     cls_oo     dfl_oo  Instances       Size\n",
            "      16/50      3.04G     0.8854     0.5421     0.9837     0.9738     0.5532      1.003         30        640: 100% 70/70 [00:36<00:00,  1.91it/s]\n",
            "                 Class     Images  Instances      Box(P          R      mAP50  mAP50-95): 100% 10/10 [00:04<00:00,  2.32it/s]\n",
            "                   all        319        319      0.924      0.906      0.969      0.696\n",
            "\n",
            "      Epoch    GPU_mem     box_om     cls_om     dfl_om     box_oo     cls_oo     dfl_oo  Instances       Size\n",
            "      17/50      3.04G      0.927     0.5639      1.003      1.018     0.5425      1.029         28        640: 100% 70/70 [00:35<00:00,  1.96it/s]\n",
            "                 Class     Images  Instances      Box(P          R      mAP50  mAP50-95): 100% 10/10 [00:06<00:00,  1.63it/s]\n",
            "                   all        319        319      0.883        0.9      0.962      0.685\n",
            "\n",
            "      Epoch    GPU_mem     box_om     cls_om     dfl_om     box_oo     cls_oo     dfl_oo  Instances       Size\n",
            "      18/50      3.04G     0.8939     0.5482     0.9796     0.9697     0.5294     0.9855         22        640: 100% 70/70 [00:34<00:00,  2.04it/s]\n",
            "                 Class     Images  Instances      Box(P          R      mAP50  mAP50-95): 100% 10/10 [00:06<00:00,  1.54it/s]\n",
            "                   all        319        319      0.916      0.928      0.972      0.733\n",
            "\n",
            "      Epoch    GPU_mem     box_om     cls_om     dfl_om     box_oo     cls_oo     dfl_oo  Instances       Size\n",
            "      19/50      3.04G       0.88     0.5455     0.9784     0.9808     0.5321     0.9981         21        640: 100% 70/70 [00:35<00:00,  1.96it/s]\n",
            "                 Class     Images  Instances      Box(P          R      mAP50  mAP50-95): 100% 10/10 [00:04<00:00,  2.25it/s]\n",
            "                   all        319        319      0.907      0.914      0.968      0.719\n",
            "\n",
            "      Epoch    GPU_mem     box_om     cls_om     dfl_om     box_oo     cls_oo     dfl_oo  Instances       Size\n",
            "      20/50      3.04G     0.8955     0.5409     0.9955     0.9657     0.5227      1.009         29        640: 100% 70/70 [00:36<00:00,  1.92it/s]\n",
            "                 Class     Images  Instances      Box(P          R      mAP50  mAP50-95): 100% 10/10 [00:04<00:00,  2.34it/s]\n",
            "                   all        319        319      0.919       0.89      0.973      0.734\n",
            "\n",
            "      Epoch    GPU_mem     box_om     cls_om     dfl_om     box_oo     cls_oo     dfl_oo  Instances       Size\n",
            "      21/50      3.04G     0.9074      0.534     0.9926          1     0.5134      1.001         23        640: 100% 70/70 [00:36<00:00,  1.90it/s]\n",
            "                 Class     Images  Instances      Box(P          R      mAP50  mAP50-95): 100% 10/10 [00:05<00:00,  1.98it/s]\n",
            "                   all        319        319      0.932      0.937      0.982      0.747\n",
            "\n",
            "      Epoch    GPU_mem     box_om     cls_om     dfl_om     box_oo     cls_oo     dfl_oo  Instances       Size\n",
            "      22/50      3.04G       0.87     0.5344     0.9756     0.9607     0.5137     0.9978         31        640: 100% 70/70 [00:35<00:00,  1.98it/s]\n",
            "                 Class     Images  Instances      Box(P          R      mAP50  mAP50-95): 100% 10/10 [00:07<00:00,  1.43it/s]\n",
            "                   all        319        319      0.945      0.909      0.978      0.741\n",
            "\n",
            "      Epoch    GPU_mem     box_om     cls_om     dfl_om     box_oo     cls_oo     dfl_oo  Instances       Size\n",
            "      23/50      3.04G     0.8689     0.5168     0.9758      0.953     0.4897     0.9922         26        640: 100% 70/70 [00:36<00:00,  1.90it/s]\n",
            "                 Class     Images  Instances      Box(P          R      mAP50  mAP50-95): 100% 10/10 [00:04<00:00,  2.23it/s]\n",
            "                   all        319        319      0.967      0.947      0.987      0.739\n",
            "\n",
            "      Epoch    GPU_mem     box_om     cls_om     dfl_om     box_oo     cls_oo     dfl_oo  Instances       Size\n",
            "      24/50      3.04G     0.8458     0.5017     0.9648     0.9424     0.4642     0.9818         31        640: 100% 70/70 [00:36<00:00,  1.90it/s]\n",
            "                 Class     Images  Instances      Box(P          R      mAP50  mAP50-95): 100% 10/10 [00:04<00:00,  2.41it/s]\n",
            "                   all        319        319      0.931      0.934      0.981      0.765\n",
            "\n",
            "      Epoch    GPU_mem     box_om     cls_om     dfl_om     box_oo     cls_oo     dfl_oo  Instances       Size\n",
            "      25/50      3.04G     0.8392     0.4939     0.9701       0.93     0.4607     0.9903         25        640: 100% 70/70 [00:36<00:00,  1.93it/s]\n",
            "                 Class     Images  Instances      Box(P          R      mAP50  mAP50-95): 100% 10/10 [00:04<00:00,  2.48it/s]\n",
            "                   all        319        319      0.945      0.912      0.981      0.743\n",
            "\n",
            "      Epoch    GPU_mem     box_om     cls_om     dfl_om     box_oo     cls_oo     dfl_oo  Instances       Size\n",
            "      26/50      3.04G     0.8427     0.4942      0.973     0.9256     0.4717     0.9909         28        640: 100% 70/70 [00:35<00:00,  1.97it/s]\n",
            "                 Class     Images  Instances      Box(P          R      mAP50  mAP50-95): 100% 10/10 [00:05<00:00,  1.67it/s]\n",
            "                   all        319        319      0.944      0.962      0.987      0.755\n",
            "\n",
            "      Epoch    GPU_mem     box_om     cls_om     dfl_om     box_oo     cls_oo     dfl_oo  Instances       Size\n",
            "      27/50      3.04G     0.8486     0.4895     0.9741     0.9322     0.4492     0.9841         27        640: 100% 70/70 [00:34<00:00,  2.00it/s]\n",
            "                 Class     Images  Instances      Box(P          R      mAP50  mAP50-95): 100% 10/10 [00:06<00:00,  1.48it/s]\n",
            "                   all        319        319      0.937       0.95      0.987      0.757\n",
            "\n",
            "      Epoch    GPU_mem     box_om     cls_om     dfl_om     box_oo     cls_oo     dfl_oo  Instances       Size\n",
            "      28/50      3.04G     0.8064     0.4715     0.9618     0.8896     0.4273     0.9677         19        640: 100% 70/70 [00:34<00:00,  2.00it/s]\n",
            "                 Class     Images  Instances      Box(P          R      mAP50  mAP50-95):  20% 2/10 [00:01<00:06,  1.30it/s]"
          ]
        }
      ]
    }
  ]
}